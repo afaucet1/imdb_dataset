{
 "cells": [
  {
   "cell_type": "markdown",
   "id": "d53f4c2b-28b8-4237-9f2b-ed0552c4f012",
   "metadata": {},
   "source": [
    "## IMDB datasets exploration\n",
    "- Practice project\n",
    "- https://datasets.imdbws.com/"
   ]
  },
  {
   "cell_type": "code",
   "execution_count": null,
   "id": "78b51e44-a897-49d5-81a3-45077b4c864f",
   "metadata": {},
   "outputs": [],
   "source": []
  }
 ],
 "metadata": {
  "kernelspec": {
   "display_name": "Python 3 (ipykernel)",
   "language": "python",
   "name": "python3"
  },
  "language_info": {
   "codemirror_mode": {
    "name": "ipython",
    "version": 3
   },
   "file_extension": ".py",
   "mimetype": "text/x-python",
   "name": "python",
   "nbconvert_exporter": "python",
   "pygments_lexer": "ipython3",
   "version": "3.9.7"
  }
 },
 "nbformat": 4,
 "nbformat_minor": 5
}
